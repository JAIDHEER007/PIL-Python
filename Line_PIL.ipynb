{
  "nbformat": 4,
  "nbformat_minor": 0,
  "metadata": {
    "colab": {
      "name": "Line_PIL",
      "provenance": [],
      "authorship_tag": "ABX9TyMrgc48g9nguK4kRqNZe9re",
      "include_colab_link": true
    },
    "kernelspec": {
      "name": "python3",
      "display_name": "Python 3"
    },
    "language_info": {
      "name": "python"
    }
  },
  "cells": [
    {
      "cell_type": "markdown",
      "metadata": {
        "id": "view-in-github",
        "colab_type": "text"
      },
      "source": [
        "<a href=\"https://colab.research.google.com/github/JAIDHEER007/PIL-Python/blob/main/Line_PIL.ipynb\" target=\"_parent\"><img src=\"https://colab.research.google.com/assets/colab-badge.svg\" alt=\"Open In Colab\"/></a>"
      ]
    },
    {
      "cell_type": "code",
      "metadata": {
        "id": "OFKtdlA-RXi1"
      },
      "source": [
        "from PIL import Image\n",
        "from PIL import ImageDraw\n",
        "from IPython.display import display"
      ],
      "execution_count": 60,
      "outputs": []
    },
    {
      "cell_type": "code",
      "metadata": {
        "id": "uf5DD7zVR4bU"
      },
      "source": [
        "def line(image, startX, startY, endX, endY, width = 1):\n",
        "    draw = ImageDraw.Draw(im = image)\n",
        "    start = (startX, startY)\n",
        "    end = (endX, endY)\n",
        "    draw.line(xy = [start, end], fill = (255, 255, 2550), width = width)\n",
        "    return image"
      ],
      "execution_count": 61,
      "outputs": []
    },
    {
      "cell_type": "code",
      "metadata": {
        "colab": {
          "base_uri": "https://localhost:8080/",
          "height": 517
        },
        "id": "3lMoRcx0SvGl",
        "outputId": "470605bc-a441-462e-eb18-02cfa47d261d"
      },
      "source": [
        "img1 = Image.new(mode = 'RGB', size = (500, 500))\n",
        "display(img1)"
      ],
      "execution_count": 62,
      "outputs": [
        {
          "output_type": "display_data",
          "data": {
            "image/png": "[encoded data removed]",
            "text/plain": [
              "<PIL.Image.Image image mode=RGB size=500x500 at 0x7FE1F9FFE710>"
            ]
          },
          "metadata": {}
        }
      ]
    },
    {
      "cell_type": "code",
      "metadata": {
        "colab": {
          "base_uri": "https://localhost:8080/",
          "height": 517
        },
        "id": "LCFyx6_tS-Yk",
        "outputId": "b248a555-fc64-43b8-b200-4df300d02a08"
      },
      "source": [
        "img2 = line(img1, 100, 100, 300, 300)\n",
        "display(img2)"
      ],
      "execution_count": 63,
      "outputs": [
        {
          "output_type": "display_data",
          "data": {
            "image/png": "[encoded data removed]",
            "text/plain": [
              "<PIL.Image.Image image mode=RGB size=500x500 at 0x7FE1F9FFE710>"
            ]
          },
          "metadata": {}
        }
      ]
    },
    {
      "cell_type": "code",
      "metadata": {
        "colab": {
          "base_uri": "https://localhost:8080/",
          "height": 517
        },
        "id": "L-YplEFITQgd",
        "outputId": "046c3284-1b5c-4a83-fabf-708015d8024a"
      },
      "source": [
        "img3 = line(img2, startX = 200, startY = 100, endX = 350, endY = 400, width = 2)\n",
        "display(img3)"
      ],
      "execution_count": 64,
      "outputs": [
        {
          "output_type": "display_data",
          "data": {
            "image/png": "[encoded data removed]",
            "text/plain": [
              "<PIL.Image.Image image mode=RGB size=500x500 at 0x7FE1F9FFE710>"
            ]
          },
          "metadata": {}
        }
      ]
    },
    {
      "cell_type": "markdown",
      "metadata": {
        "id": "VKEi_d5UUV1p"
      },
      "source": [
        "## Reference Links\n",
        "\n",
        "* <a href = 'https://pillow.readthedocs.io/en/stable/reference/ImageDraw.html#PIL.ImageDraw.ImageDraw.line'> Official Documentation</a> "
      ]
    }
  ]
}