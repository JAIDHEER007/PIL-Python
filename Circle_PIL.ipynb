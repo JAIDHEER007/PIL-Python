{
  "nbformat": 4,
  "nbformat_minor": 0,
  "metadata": {
    "colab": {
      "name": "Circle_PIL",
      "provenance": [],
      "authorship_tag": "ABX9TyNWJ+iKshDkPw1VliBkuOkR",
      "include_colab_link": true
    },
    "kernelspec": {
      "name": "python3",
      "display_name": "Python 3"
    },
    "language_info": {
      "name": "python"
    }
  },
  "cells": [
    {
      "cell_type": "markdown",
      "metadata": {
        "id": "view-in-github",
        "colab_type": "text"
      },
      "source": [
        "<a href=\"https://colab.research.google.com/github/JAIDHEER007/PIL-Python/blob/main/Circle_PIL.ipynb\" target=\"_parent\"><img src=\"https://colab.research.google.com/assets/colab-badge.svg\" alt=\"Open In Colab\"/></a>"
      ]
    },
    {
      "cell_type": "code",
      "metadata": {
        "id": "GL-mM50kKIFR"
      },
      "source": [
        "from PIL import Image\n",
        "from PIL import ImageDraw\n",
        "from IPython.display import display"
      ],
      "execution_count": 58,
      "outputs": []
    },
    {
      "cell_type": "code",
      "metadata": {
        "id": "EKjLQ9hzKItQ"
      },
      "source": [
        "def circle(image, centerX, centerY, radius, width = 1):\n",
        "    draw = ImageDraw.Draw(image)\n",
        "    leftCorner = (centerX - radius, centerY - radius)\n",
        "    rightCorner = (centerX + radius, centerY + radius)\n",
        "\n",
        "    boundingBox = [leftCorner, rightCorner]\n",
        "    draw.ellipse(xy = boundingBox, fill = None, outline = (255, 255, 255), width = width)\n",
        "\n",
        "    return image"
      ],
      "execution_count": 59,
      "outputs": []
    },
    {
      "cell_type": "code",
      "metadata": {
        "colab": {
          "base_uri": "https://localhost:8080/",
          "height": 517
        },
        "id": "tLOQHOZPKjne",
        "outputId": "484b0ebe-5de0-4b4d-a6e0-6e386eca836c"
      },
      "source": [
        "img1 = Image.new(mode = 'RGB', size = (500, 500))\n",
        "display(img1)"
      ],
      "execution_count": 60,
      "outputs": [
        {
          "output_type": "display_data",
          "data": {
            "image/png": "[encoded data removed]",
            "text/plain": [
              "<PIL.Image.Image image mode=RGB size=500x500 at 0x7F2E31ED6C90>"
            ]
          },
          "metadata": {}
        }
      ]
    },
    {
      "cell_type": "code",
      "metadata": {
        "id": "n5k-3VatNIdX"
      },
      "source": [
        "img2 = circle(image = img1, centerX = (img1.width // 2), centerY = (img1.height // 2), radius = 150, width = 2)"
      ],
      "execution_count": 61,
      "outputs": []
    },
    {
      "cell_type": "code",
      "metadata": {
        "colab": {
          "base_uri": "https://localhost:8080/",
          "height": 517
        },
        "id": "K_sXB7uNNdwL",
        "outputId": "a7a63439-fcd3-420f-c524-3db8afe7e61b"
      },
      "source": [
        "display(img2)"
      ],
      "execution_count": 62,
      "outputs": [
        {
          "output_type": "display_data",
          "data": {
            "image/png": "[encoded data removed]",
            "text/plain": [
              "<PIL.Image.Image image mode=RGB size=500x500 at 0x7F2E31ED6C90>"
            ]
          },
          "metadata": {}
        }
      ]
    },
    {
      "cell_type": "markdown",
      "metadata": {
        "id": "CDCaGSQ2QX1L"
      },
      "source": [
        "## Reference Links\n",
        "\n",
        "* <a href = 'https://stackoverflow.com/questions/2980366/python-draw-a-circle-with-pil?rq=1#answer-2980931'> Draw a cricle StackOverflow </a>\n",
        "* <a href = 'https://pillow.readthedocs.io/en/stable/reference/ImageDraw.html#PIL.ImageDraw.ImageDraw.ellipse'> Draw Circle Official Documentation</a>"
      ]
    }
  ]
}